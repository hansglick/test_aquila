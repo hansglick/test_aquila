{
 "cells": [
  {
   "cell_type": "markdown",
   "metadata": {},
   "source": [
    "# Part I : Quel(le) data scientist êtes-vous ?\n",
    "## Contexte de l’analyse\n",
    "\n",
    "Elu métier le plus sexy par la Harvard Business Review en octobre 2012, le data scientist représente un profil rare qui exige de nombreuses compétences.\n",
    "\n",
    "A partir d'un dataset Aquila, vous réaliserez :\n",
    "- un clustering non supervisé afin d'identifier 2 groupes de profils techniques distinctes\n",
    "- une prédiction des profils dont le métier n'est pas labellisé\n",
    "\n",
    "\n",
    "## Données\n",
    "data.csv contient 6 variables : \n",
    "    - 'Entreprise' correspond à une liste d'entreprises fictive\n",
    "    - 'Metier' correspond au métier parmi data scientist, lead data scientist, data engineer et data architecte\n",
    "    - 'Technologies' correspond aux compétences maîtrisées par le profil\n",
    "    - 'Diplome' correspond à son niveau scolaire (Bac, Master, PhD,...)\n",
    "    - 'Experience' correspond au nombre d'années d'expériences\n",
    "    - 'Ville' correspond au lieu de travail\n",
    "    \n",
    "\n",
    "\n",
    "## Répondez aux questions \n",
    "\n",
    "Bonne chance!"
   ]
  },
  {
   "cell_type": "code",
   "execution_count": 1,
   "metadata": {},
   "outputs": [],
   "source": [
    "# Import des libraries classique (numpy, pandas, ...)\n",
    "import os\n",
    "import sys\n",
    "import pandas as pd\n",
    "import numpy as np\n",
    "import re\n",
    "from IPython.display import clear_output, display\n",
    "from sklearn.linear_model import LogisticRegression\n",
    "from sklearn.model_selection import train_test_split\n",
    "from sklearn import metrics\n",
    "import matplotlib.pyplot as plt\n",
    "plt.style.use('ggplot')\n",
    "plt.close('all')"
   ]
  },
  {
   "cell_type": "code",
   "execution_count": 2,
   "metadata": {},
   "outputs": [],
   "source": [
    "# Reload des modules automatiquement, pas nécessaire pour faire tourner le nb\n",
    "%load_ext autoreload\n",
    "%autoreload 2"
   ]
  },
  {
   "cell_type": "code",
   "execution_count": null,
   "metadata": {},
   "outputs": [],
   "source": []
  },
  {
   "cell_type": "code",
   "execution_count": null,
   "metadata": {},
   "outputs": [],
   "source": []
  },
  {
   "cell_type": "code",
   "execution_count": null,
   "metadata": {},
   "outputs": [],
   "source": []
  },
  {
   "cell_type": "markdown",
   "metadata": {},
   "source": [
    "### 1) Importer le tableau de données dans un dataframe "
   ]
  },
  {
   "cell_type": "code",
   "execution_count": 3,
   "metadata": {},
   "outputs": [
    {
     "data": {
      "text/html": [
       "<div>\n",
       "<style scoped>\n",
       "    .dataframe tbody tr th:only-of-type {\n",
       "        vertical-align: middle;\n",
       "    }\n",
       "\n",
       "    .dataframe tbody tr th {\n",
       "        vertical-align: top;\n",
       "    }\n",
       "\n",
       "    .dataframe thead th {\n",
       "        text-align: right;\n",
       "    }\n",
       "</style>\n",
       "<table border=\"1\" class=\"dataframe\">\n",
       "  <thead>\n",
       "    <tr style=\"text-align: right;\">\n",
       "      <th></th>\n",
       "      <th>Entreprise</th>\n",
       "      <th>Metier</th>\n",
       "      <th>Technologies</th>\n",
       "      <th>Diplome</th>\n",
       "      <th>Experience</th>\n",
       "      <th>Ville</th>\n",
       "    </tr>\n",
       "  </thead>\n",
       "  <tbody>\n",
       "    <tr>\n",
       "      <th>0</th>\n",
       "      <td>Sanofi</td>\n",
       "      <td>Data scientist</td>\n",
       "      <td>Matlab/Python/Pyspark/Scikit-learn/Tensorflow</td>\n",
       "      <td>Master</td>\n",
       "      <td>1.0</td>\n",
       "      <td>Paris</td>\n",
       "    </tr>\n",
       "    <tr>\n",
       "      <th>1</th>\n",
       "      <td>Massachusetts General Hospital(MGH)</td>\n",
       "      <td>Data architecte</td>\n",
       "      <td>Python/Java/Scala/MongoDB</td>\n",
       "      <td>Master</td>\n",
       "      <td>3.0</td>\n",
       "      <td>Marseille</td>\n",
       "    </tr>\n",
       "    <tr>\n",
       "      <th>2</th>\n",
       "      <td>Delve</td>\n",
       "      <td>Lead data scientist</td>\n",
       "      <td>SPSS/SQL/Teradata/R/Python/Tensorflow/scikit-l...</td>\n",
       "      <td>Master</td>\n",
       "      <td>3.0</td>\n",
       "      <td>Nantes</td>\n",
       "    </tr>\n",
       "    <tr>\n",
       "      <th>3</th>\n",
       "      <td>Ann &amp; Robert H. Lurie Children’s Hospital of C...</td>\n",
       "      <td>Data scientist</td>\n",
       "      <td>C/C++/Java/Python</td>\n",
       "      <td>Master</td>\n",
       "      <td>1.5</td>\n",
       "      <td>Marseille</td>\n",
       "    </tr>\n",
       "    <tr>\n",
       "      <th>4</th>\n",
       "      <td>Arm</td>\n",
       "      <td>Data scientist</td>\n",
       "      <td>Matlab/Python/C++/numpy/Tensorflow/scikit-learn</td>\n",
       "      <td>Phd</td>\n",
       "      <td>NaN</td>\n",
       "      <td>Bordeaux</td>\n",
       "    </tr>\n",
       "  </tbody>\n",
       "</table>\n",
       "</div>"
      ],
      "text/plain": [
       "                                          Entreprise               Metier  \\\n",
       "0                                             Sanofi       Data scientist   \n",
       "1                Massachusetts General Hospital(MGH)      Data architecte   \n",
       "2                                              Delve  Lead data scientist   \n",
       "3  Ann & Robert H. Lurie Children’s Hospital of C...       Data scientist   \n",
       "4                                                Arm       Data scientist   \n",
       "\n",
       "                                        Technologies Diplome  Experience  \\\n",
       "0      Matlab/Python/Pyspark/Scikit-learn/Tensorflow  Master         1.0   \n",
       "1                          Python/Java/Scala/MongoDB  Master         3.0   \n",
       "2  SPSS/SQL/Teradata/R/Python/Tensorflow/scikit-l...  Master         3.0   \n",
       "3                                  C/C++/Java/Python  Master         1.5   \n",
       "4    Matlab/Python/C++/numpy/Tensorflow/scikit-learn     Phd         NaN   \n",
       "\n",
       "       Ville  \n",
       "0      Paris  \n",
       "1  Marseille  \n",
       "2     Nantes  \n",
       "3  Marseille  \n",
       "4   Bordeaux  "
      ]
     },
     "execution_count": 3,
     "metadata": {},
     "output_type": "execute_result"
    }
   ],
   "source": [
    "# Import du dataframe \"data.csv\"\n",
    "df = pd.read_csv(\"../data/data.csv\", sep = \",\", dtype = {'Enterprise': \"str\",\n",
    "                                                         'Metier': \"str\",\n",
    "                                                         'Technologies': 'str',\n",
    "                                                         \"Diplome\" : \"str\",\n",
    "                                                         \"Experience\"  : \"str\",\n",
    "                                                         \"Ville\" : \"str\"})\n",
    "df.Experience = df.Experience.str.replace(',', '.', regex = False).astype(float)\n",
    "df.head()"
   ]
  },
  {
   "cell_type": "code",
   "execution_count": null,
   "metadata": {},
   "outputs": [],
   "source": []
  },
  {
   "cell_type": "code",
   "execution_count": null,
   "metadata": {},
   "outputs": [],
   "source": []
  },
  {
   "cell_type": "code",
   "execution_count": null,
   "metadata": {},
   "outputs": [],
   "source": []
  },
  {
   "cell_type": "markdown",
   "metadata": {},
   "source": [
    "### 2) Combien y a t-il d'observations dans ce dataset? Y a t-il des valeurs manquantes? "
   ]
  },
  {
   "cell_type": "code",
   "execution_count": 4,
   "metadata": {},
   "outputs": [
    {
     "name": "stdout",
     "output_type": "stream",
     "text": [
      "il y a  9582  obserbations dans le dataset.\n",
      "il y a  130  valeurs manquantes.\n"
     ]
    }
   ],
   "source": [
    "print(\"il y a \",df.shape[0], \" obserbations dans le dataset.\")\n",
    "print(\"il y a \",df.isna().sum().sum(), \" valeurs manquantes.\")"
   ]
  },
  {
   "cell_type": "code",
   "execution_count": null,
   "metadata": {},
   "outputs": [],
   "source": []
  },
  {
   "cell_type": "code",
   "execution_count": null,
   "metadata": {},
   "outputs": [],
   "source": []
  },
  {
   "cell_type": "code",
   "execution_count": null,
   "metadata": {},
   "outputs": [],
   "source": []
  },
  {
   "cell_type": "markdown",
   "metadata": {},
   "source": [
    "### 3) Réaliser l'imputation des valeurs manquantes pour la variable \"Experience\" avec : \n",
    "- la valeur médiane pour les data scientists\n",
    "- la valeur moyenne pour les data engineers"
   ]
  },
  {
   "cell_type": "code",
   "execution_count": 5,
   "metadata": {},
   "outputs": [],
   "source": [
    "experience_median_datascientist = df.Experience[df.Metier == \"Data scientist\"].\\\n",
    "median(axis = 0, skipna = True)\n",
    "experience_median_dataengineer = df.Experience[df.Metier == \"Data engineer\"].\\\n",
    "median(axis = 0, skipna = True)\n",
    "\n",
    "filter_datascientist = df.Experience[df.Metier == \"Data scientist\"].isna()\n",
    "filter_datascientist = filter_datascientist[filter_datascientist].index\n",
    "filter_dataengineer = df.Experience[df.Metier == \"Data engineer\"].isna()\n",
    "filter_dataengineer = filter_dataengineer[filter_dataengineer].index\n",
    "\n",
    "df.loc[filter_datascientist,\"Experience\"] = experience_median_datascientist\n",
    "df.loc[filter_dataengineer,\"Experience\"] = experience_median_dataengineer"
   ]
  },
  {
   "cell_type": "code",
   "execution_count": null,
   "metadata": {},
   "outputs": [],
   "source": []
  },
  {
   "cell_type": "code",
   "execution_count": null,
   "metadata": {},
   "outputs": [],
   "source": []
  },
  {
   "cell_type": "code",
   "execution_count": null,
   "metadata": {},
   "outputs": [],
   "source": []
  },
  {
   "cell_type": "markdown",
   "metadata": {},
   "source": [
    "### 4) Combien d'années d'expériences ont, en moyenne, chacun des profils : le data scientist, le lead data scientist et le data engineer en moyenne?"
   ]
  },
  {
   "cell_type": "code",
   "execution_count": 6,
   "metadata": {},
   "outputs": [
    {
     "data": {
      "text/html": [
       "<div>\n",
       "<style scoped>\n",
       "    .dataframe tbody tr th:only-of-type {\n",
       "        vertical-align: middle;\n",
       "    }\n",
       "\n",
       "    .dataframe tbody tr th {\n",
       "        vertical-align: top;\n",
       "    }\n",
       "\n",
       "    .dataframe thead th {\n",
       "        text-align: right;\n",
       "    }\n",
       "</style>\n",
       "<table border=\"1\" class=\"dataframe\">\n",
       "  <thead>\n",
       "    <tr style=\"text-align: right;\">\n",
       "      <th></th>\n",
       "      <th>Experience</th>\n",
       "    </tr>\n",
       "    <tr>\n",
       "      <th>Metier</th>\n",
       "      <th></th>\n",
       "    </tr>\n",
       "  </thead>\n",
       "  <tbody>\n",
       "    <tr>\n",
       "      <th>Data architecte</th>\n",
       "      <td>3.000476</td>\n",
       "    </tr>\n",
       "    <tr>\n",
       "      <th>Data engineer</th>\n",
       "      <td>2.980827</td>\n",
       "    </tr>\n",
       "    <tr>\n",
       "      <th>Data scientist</th>\n",
       "      <td>2.241268</td>\n",
       "    </tr>\n",
       "    <tr>\n",
       "      <th>Lead data scientist</th>\n",
       "      <td>3.965261</td>\n",
       "    </tr>\n",
       "  </tbody>\n",
       "</table>\n",
       "</div>"
      ],
      "text/plain": [
       "                     Experience\n",
       "Metier                         \n",
       "Data architecte        3.000476\n",
       "Data engineer          2.980827\n",
       "Data scientist         2.241268\n",
       "Lead data scientist    3.965261"
      ]
     },
     "execution_count": 6,
     "metadata": {},
     "output_type": "execute_result"
    }
   ],
   "source": [
    "mean_experience_by_metier = df.groupby(\"Metier\").agg({'Experience':'mean'})\n",
    "mean_experience_by_metier"
   ]
  },
  {
   "cell_type": "code",
   "execution_count": null,
   "metadata": {},
   "outputs": [],
   "source": []
  },
  {
   "cell_type": "code",
   "execution_count": null,
   "metadata": {},
   "outputs": [],
   "source": []
  },
  {
   "cell_type": "code",
   "execution_count": null,
   "metadata": {},
   "outputs": [],
   "source": []
  },
  {
   "cell_type": "markdown",
   "metadata": {},
   "source": [
    "### 5) Faire la représentation graphique de votre choix afin de comparer le nombre moyen d'années d'expériences pour chaque métier"
   ]
  },
  {
   "cell_type": "code",
   "execution_count": 7,
   "metadata": {},
   "outputs": [
    {
     "data": {
      "image/png": "[encoded data removed]",
      "text/plain": [
       "<Figure size 432x288 with 1 Axes>"
      ]
     },
     "metadata": {
      "needs_background": "light"
     },
     "output_type": "display_data"
    }
   ],
   "source": [
    "mean_experience_by_metier.plot.bar(title = \"Années d'expériences selon le métier\",\n",
    "                                   legend = False)\n",
    "plt.show()"
   ]
  },
  {
   "cell_type": "code",
   "execution_count": null,
   "metadata": {},
   "outputs": [],
   "source": []
  },
  {
   "cell_type": "code",
   "execution_count": null,
   "metadata": {},
   "outputs": [],
   "source": []
  },
  {
   "cell_type": "code",
   "execution_count": null,
   "metadata": {},
   "outputs": [],
   "source": []
  },
  {
   "cell_type": "markdown",
   "metadata": {},
   "source": [
    "### 6) Transformer la variable continue 'Experience' en une nouvelle variable catégorielle 'Exp_label' à 4 modalités: débutant, confirmé, avancé et expert\n",
    "- Veuillez expliquer votre choix du règle de transformation.  "
   ]
  },
  {
   "cell_type": "markdown",
   "metadata": {},
   "source": [
    "Pour répondre à cette question, je partirais de deux hypothèses : \n",
    "\n",
    "1. La nouvelle variable **Exp_label** représente le niveau de qualification des profils du dataset. J'affirme que le niveau de qualification dépend directement du nombre d'**années d'experiences** et **JAMAIS du diplôme**.\n",
    "2. Les 4 populations [_débutant, confirmé, avancé, expert_] ne peuvent pas être de tailles égales. Il ne peut exister autant d'experts que de débutants. J'élimine donc un découpage basé sur les quartiles de la variable expérience. Néanmoins, par expérience, on peut avoir une idée de la distribution de la population : \n",
    " * Il n'existe qu'un petit nombre d'experts. Fixons ce chiffre de manière arbitraire à 10%\n",
    " * Il existe grosso modo autant de débutants que de confirmés\n",
    " * Il existe à priori un peu moins d'avancés que de débutants. On affirme de manière arbitraire qu'il existe moitié moins d'avancés que de débutants."
   ]
  },
  {
   "cell_type": "markdown",
   "metadata": {},
   "source": [
    "Le nouvelle variable **Exp_label** est donc construite de la manière suivante : \n",
    " * **Experts** : Les individus avec un nombre d'années d'expériences situé dans le 1er décile (le top 10%), p90\n",
    " * **Avancés** : le top 20% de la tranche 0-90%, pi80\n",
    " * **Confirmés** : la tranche 20-60% de la tranche 0-90%, pi60\n",
    " * **Débutants** : la tranche 0-60% de la tranche 0-90%, p0"
   ]
  },
  {
   "cell_type": "markdown",
   "metadata": {},
   "source": [
    " Afin d'éviter toute erreur grossière, on peut au préalable visualiser le boxplot de la variable _Experience_ :"
   ]
  },
  {
   "cell_type": "code",
   "execution_count": 8,
   "metadata": {},
   "outputs": [
    {
     "data": {
      "image/png": "[encoded data removed]",
      "text/plain": [
       "<Figure size 432x288 with 1 Axes>"
      ]
     },
     "metadata": {
      "needs_background": "light"
     },
     "output_type": "display_data"
    }
   ],
   "source": [
    "df.Experience.plot.box()\n",
    "plt.show()"
   ]
  },
  {
   "cell_type": "markdown",
   "metadata": {},
   "source": [
    "La distribution de la nouvelle variable Exp_label ne correspond pas à mon hypothèse de répartition sur laquelle je me suis basée. Ceci s'explique par le fait que la variable 'Experience' contenant peu de valeurs distinctes."
   ]
  },
  {
   "cell_type": "code",
   "execution_count": 9,
   "metadata": {},
   "outputs": [
    {
     "data": {
      "text/plain": [
       "debutant    4884\n",
       "avance      1977\n",
       "confirme    1619\n",
       "expert      1102\n",
       "Name: Exp_label, dtype: int64"
      ]
     },
     "execution_count": 9,
     "metadata": {},
     "output_type": "execute_result"
    }
   ],
   "source": [
    "# Calcul des bornes\n",
    "p90 = df.Experience.quantile(0.9)\n",
    "p0 = df.Experience.quantile(0)\n",
    "kept_idx = np.where(df.Experience < p90)[0]\n",
    "Experience090 = df.Experience[kept_idx]\n",
    "pi80 = Experience090.quantile(0.8)\n",
    "pi60 = Experience090.quantile(0.6)\n",
    "\n",
    "# Affectation\n",
    "df[\"Exp_label\"] = \"debutant\"\n",
    "df.loc[df.Experience>=pi60, \"Exp_label\"] = \"confirme\"\n",
    "df.loc[df.Experience>=pi80, \"Exp_label\"] = \"avance\"\n",
    "df.loc[df.Experience>=p90, \"Exp_label\"] = \"expert\"\n",
    "df.Exp_label.value_counts()"
   ]
  },
  {
   "cell_type": "code",
   "execution_count": null,
   "metadata": {},
   "outputs": [],
   "source": []
  },
  {
   "cell_type": "code",
   "execution_count": null,
   "metadata": {},
   "outputs": [],
   "source": []
  },
  {
   "cell_type": "code",
   "execution_count": null,
   "metadata": {},
   "outputs": [],
   "source": []
  },
  {
   "cell_type": "markdown",
   "metadata": {},
   "source": [
    "### 7) Quelles sont les 5 technologies les plus utilisées? Faites un graphique"
   ]
  },
  {
   "cell_type": "code",
   "execution_count": 10,
   "metadata": {},
   "outputs": [],
   "source": [
    "# Construction de la statistique\n",
    "series_of_technologies = []\n",
    "for idx,row in df.iterrows():\n",
    "    r = row[\"Technologies\"].split(\"/\")\n",
    "    series_of_technologies += r \n",
    "top5_technologies = (pd.Series(series_of_technologies)).value_counts()[:5]"
   ]
  },
  {
   "cell_type": "code",
   "execution_count": 11,
   "metadata": {},
   "outputs": [
    {
     "data": {
      "image/png": "[encoded data removed]",
      "text/plain": [
       "<Figure size 432x288 with 1 Axes>"
      ]
     },
     "metadata": {
      "needs_background": "light"
     },
     "output_type": "display_data"
    },
    {
     "name": "stdout",
     "output_type": "stream",
     "text": [
      "Les 5 technologies les plus uilisées sont Python, R, SQL, Java, Hadoop\n"
     ]
    }
   ],
   "source": [
    "# Affichage du graphique\n",
    "top5_technologies.plot.bar(title = \"Les 5 technologies les plus utilisées\",\n",
    "                           legend = False)\n",
    "plt.xlabel('Technologies')\n",
    "plt.ylabel('Nombre de profils')\n",
    "plt.show()\n",
    "print(\"Les 5 technologies les plus uilisées sont\",\", \".\\\n",
    "      join(top5_technologies.index.values.tolist()))"
   ]
  },
  {
   "cell_type": "code",
   "execution_count": null,
   "metadata": {},
   "outputs": [],
   "source": []
  },
  {
   "cell_type": "code",
   "execution_count": null,
   "metadata": {},
   "outputs": [],
   "source": []
  },
  {
   "cell_type": "code",
   "execution_count": null,
   "metadata": {},
   "outputs": [],
   "source": []
  },
  {
   "cell_type": "markdown",
   "metadata": {},
   "source": [
    "### 8) Réaliser une méthode de clustering non supervisée de votre choix pour faire apparaître 2 clusters que vous jugerez pertinents. Donnez les caractéristiques de chacun des clusters.\n",
    "-  Justifier la performance de votre algorithme grace à une métrique.\n",
    "-  Interpréter votre resultat.  "
   ]
  },
  {
   "cell_type": "markdown",
   "metadata": {},
   "source": [
    "## Pré-processing\n",
    "On construit dans un premier temps, le dataframe qui nous servira pour le clustering. Dans un souci de performance et d'intréprabilité certaines variables vont être modifiées afin de réduire leur dimension. D'autres jugées non pertinentes seront exlues."
   ]
  },
  {
   "cell_type": "markdown",
   "metadata": {},
   "source": [
    "### Pré-processing, transformation de la variable 'Technologies'\n",
    "On cherche à réduire la dimension de la variable technologies en ne sélectionnant que les tecnhlogies jugées les plus pertinentes. Pour ce faire, on choisit arbitrairement de ne sélectionner que les top n technologies tel que 75% des individus aient au moins une de ces n technologies. Il s'avère après analyse que les dites n technlogies sont **'Python' 'R' 'SQL' 'Java' 'Hadoop' 'Excel' 'C++' 'Spark'**.\n",
    "Le data frame **tech_df_to_add** contient les nouvelles features relatives à la variable *Technologies*"
   ]
  },
  {
   "cell_type": "code",
   "execution_count": 12,
   "metadata": {},
   "outputs": [],
   "source": [
    "def compute_profil_w_pop_tech(df, threshold, selected_technologies):\n",
    "    \n",
    "    L = []\n",
    "    \n",
    "    for idx,row in df.iterrows():\n",
    "        r = np.array(row[\"Technologies\"].split(\"/\"))\n",
    "        intersection_size = len(np.intersect1d(selected_technologies,r))\n",
    "        L.append(intersection_size>threshold)\n",
    "        \n",
    "    return L"
   ]
  },
  {
   "cell_type": "code",
   "execution_count": 13,
   "metadata": {},
   "outputs": [
    {
     "name": "stdout",
     "output_type": "stream",
     "text": [
      "Nombre de tech : 8\n",
      "Couverture  (profil avec au moins  1  tech) :  0.7478605719056565\n",
      "Les technologies retenues :  ['Python' 'R' 'SQL' 'Java' 'Hadoop' 'Excel' 'C++' 'Spark']\n"
     ]
    }
   ],
   "source": [
    "technologies_rk = (pd.Series(series_of_technologies).value_counts() / len(series_of_technologies))\n",
    "selected_technologies = technologies_rk.cumsum() < 0.5\n",
    "selected_technologies = selected_technologies[selected_technologies].index.values\n",
    "threshold = 1\n",
    "profil_with_pop_technologies_bool = np.array(compute_profil_w_pop_tech(df,\n",
    "                                                                       threshold,\n",
    "                                                                       selected_technologies))\n",
    "couverture = profil_with_pop_technologies_bool.sum()/len(df)\n",
    "print(\"Nombre de tech :\", len(selected_technologies))\n",
    "print(\"Couverture \", \"(profil avec au moins \", threshold, \" tech) : \", couverture)\n",
    "print(\"Les technologies retenues : \", selected_technologies)"
   ]
  },
  {
   "cell_type": "code",
   "execution_count": 14,
   "metadata": {},
   "outputs": [],
   "source": [
    "def compute_tech_df_to_add(df, selected_technologies):\n",
    "    \n",
    "    technologies_df = pd.DataFrame()\n",
    "    compteur = 1\n",
    "    \n",
    "    for idx,row in df.iterrows():\n",
    "        clear_output(wait=True)\n",
    "        compteur = compteur + 1\n",
    "        print(\"Progression : \", 100 * round((compteur/len(df)),2), \"%\")\n",
    "        r = np.array(row[\"Technologies\"].split(\"/\"))\n",
    "        intersection = np.intersect1d(selected_technologies,r)\n",
    "        solution = (np.in1d(selected_technologies, intersection)).astype(int)\n",
    "        arow = pd.Series(solution, index = selected_technologies, name = idx)\n",
    "        technologies_df = technologies_df.append(arow)\n",
    "        \n",
    "    technologies_df = technologies_df.astype(int)\n",
    "    \n",
    "    return technologies_df"
   ]
  },
  {
   "cell_type": "code",
   "execution_count": 15,
   "metadata": {},
   "outputs": [
    {
     "name": "stdout",
     "output_type": "stream",
     "text": [
      "Progression :  100.0 %\n"
     ]
    }
   ],
   "source": [
    "# ATTENTION!!\n",
    "# Un peu lent, performance pas géniale, sûrement améliorable, mais je fais ça en vitesse\n",
    "tech_df_to_add = compute_tech_df_to_add(df, selected_technologies)"
   ]
  },
  {
   "cell_type": "markdown",
   "metadata": {},
   "source": [
    "### Pré-processing, transformation de la variable 'Entreprise'\n",
    "La distribution de la variable _Entreprise_ est telle qu'on ne peut la résumer avec un nombre relativement faible de dummy variables. De plus, étant donné le sujet, i.e. des profils dans les métiers de la data, il semble raisonnable de penser que peu d'entreprises ne se concentrent que sur un métier particulier. Cela aurait été différent s'il existait dans le dataframe des métiers très différent (par ex : Coiffeur, Data scientist, Comptable). Autrement dit, il est légitime de penser que le pouvoir discriminant de cette variable soit relativement faible dans ce cas précis. Par conséquent, **j'exclus cette variable de l'étude**."
   ]
  },
  {
   "cell_type": "code",
   "execution_count": 16,
   "metadata": {},
   "outputs": [
    {
     "data": {
      "text/plain": [
       "416"
      ]
     },
     "execution_count": 16,
     "metadata": {},
     "output_type": "execute_result"
    }
   ],
   "source": [
    "entreprise_rk = df.Entreprise.value_counts() / len(df)\n",
    "selected_entreprise = entreprise_rk.cumsum() < 0.75\n",
    "selected_entreprise = selected_entreprise[selected_entreprise].index.values\n",
    "len(selected_entreprise)"
   ]
  },
  {
   "cell_type": "markdown",
   "metadata": {},
   "source": [
    "### Pré-processing, transformation de la variable 'Ville'\n",
    "Tout comme dans le cas de la variable _Technologies_, on cherche à réduire la dimension de cette variable. En suivant le même procédé, on choisit ne sélectionner que les dummy variables correspondant aux villes **'Paris' 'Lyon' 'Marseille' 'Toulouse' 'Lille'**. Malgré le pouvoir à priori relativement faible de cette variable, on décide de la garder dans l'étude. Le data frame **ville_df_to_add** contient les nouvelles features relatives à la variable _Ville_"
   ]
  },
  {
   "cell_type": "code",
   "execution_count": 17,
   "metadata": {},
   "outputs": [
    {
     "name": "stdout",
     "output_type": "stream",
     "text": [
      "Nombre de villes retenues :  5\n",
      "Villes retenues :  ['Paris' 'Lyon' 'Marseille' 'Toulouse' 'Lille']\n"
     ]
    }
   ],
   "source": [
    "ville_rk = df.Ville.value_counts() / len(df)\n",
    "selected_ville = ville_rk.cumsum() < 0.75\n",
    "selected_ville = selected_ville[selected_ville].index.values\n",
    "print(\"Nombre de villes retenues : \", len(selected_ville))\n",
    "print(\"Villes retenues : \", selected_ville)"
   ]
  },
  {
   "cell_type": "code",
   "execution_count": 18,
   "metadata": {},
   "outputs": [],
   "source": [
    "def compute_ville_df_to_add(df, selected_ville):\n",
    "    \n",
    "    villes_df = pd.DataFrame()\n",
    "    compteur = 1\n",
    "    \n",
    "    for idx,row in df.iterrows():\n",
    "        clear_output(wait = True)\n",
    "        compteur = compteur + 1\n",
    "        print(\"Progression : \", 100 * round((compteur/len(df)),2), \"%\")\n",
    "        r = row[\"Ville\"]\n",
    "        solution = (np.in1d(selected_ville, r)).astype(int)\n",
    "        arow = pd.Series(solution, index = selected_ville, name = idx)\n",
    "        villes_df = villes_df.append(arow)\n",
    "        \n",
    "    villes_df = villes_df.astype(int)\n",
    "    \n",
    "    return villes_df"
   ]
  },
  {
   "cell_type": "code",
   "execution_count": 19,
   "metadata": {},
   "outputs": [
    {
     "name": "stdout",
     "output_type": "stream",
     "text": [
      "Progression :  100.0 %\n"
     ]
    }
   ],
   "source": [
    "# ATTENTION!!\n",
    "# Un peu lent, performance pas géniale, sûrement améliorable, mais je fais ça en vitesse\n",
    "ville_df_to_add = compute_ville_df_to_add(df, selected_ville)"
   ]
  },
  {
   "cell_type": "markdown",
   "metadata": {},
   "source": [
    "### Pré-processing, transformation des variables 'Metier', 'Diplome', 'Exp_label'\n",
    "Simple conversion des variables en dummy variables. **REMARQUE IMPORTANTE :** la variable **'Métier'** étant à priori très corrélée avec les deux clusters qu'on recherche, il est envisageable de **la supprimer**. Toutefois, je préfère opter pour une approche \"naïve\" sans à priori. Je décide donc de la garder."
   ]
  },
  {
   "cell_type": "code",
   "execution_count": 20,
   "metadata": {},
   "outputs": [],
   "source": [
    "metier_diplome_experience_df_to_add = pd.get_dummies(df[[\"Metier\", \"Diplome\", \"Exp_label\"]])"
   ]
  },
  {
   "cell_type": "markdown",
   "metadata": {},
   "source": [
    "### Assemblage\n",
    "On rassemble les features nouvellement créées dans un dataframe **df_for_clustering**"
   ]
  },
  {
   "cell_type": "code",
   "execution_count": 21,
   "metadata": {},
   "outputs": [
    {
     "data": {
      "text/html": [
       "<div>\n",
       "<style scoped>\n",
       "    .dataframe tbody tr th:only-of-type {\n",
       "        vertical-align: middle;\n",
       "    }\n",
       "\n",
       "    .dataframe tbody tr th {\n",
       "        vertical-align: top;\n",
       "    }\n",
       "\n",
       "    .dataframe thead th {\n",
       "        text-align: right;\n",
       "    }\n",
       "</style>\n",
       "<table border=\"1\" class=\"dataframe\">\n",
       "  <thead>\n",
       "    <tr style=\"text-align: right;\">\n",
       "      <th></th>\n",
       "      <th>Metier_Data architecte</th>\n",
       "      <th>Metier_Data engineer</th>\n",
       "      <th>Metier_Data scientist</th>\n",
       "      <th>Metier_Lead data scientist</th>\n",
       "      <th>Diplome_Bachelor</th>\n",
       "      <th>Diplome_Master</th>\n",
       "      <th>Diplome_No diploma</th>\n",
       "      <th>Diplome_Phd</th>\n",
       "      <th>Exp_label_avance</th>\n",
       "      <th>Exp_label_confirme</th>\n",
       "      <th>...</th>\n",
       "      <th>Paris</th>\n",
       "      <th>Toulouse</th>\n",
       "      <th>C++</th>\n",
       "      <th>Excel</th>\n",
       "      <th>Hadoop</th>\n",
       "      <th>Java</th>\n",
       "      <th>Python</th>\n",
       "      <th>R</th>\n",
       "      <th>SQL</th>\n",
       "      <th>Spark</th>\n",
       "    </tr>\n",
       "  </thead>\n",
       "  <tbody>\n",
       "    <tr>\n",
       "      <th>0</th>\n",
       "      <td>0</td>\n",
       "      <td>0</td>\n",
       "      <td>1</td>\n",
       "      <td>0</td>\n",
       "      <td>0</td>\n",
       "      <td>1</td>\n",
       "      <td>0</td>\n",
       "      <td>0</td>\n",
       "      <td>0</td>\n",
       "      <td>0</td>\n",
       "      <td>...</td>\n",
       "      <td>1</td>\n",
       "      <td>0</td>\n",
       "      <td>0</td>\n",
       "      <td>0</td>\n",
       "      <td>0</td>\n",
       "      <td>0</td>\n",
       "      <td>1</td>\n",
       "      <td>0</td>\n",
       "      <td>0</td>\n",
       "      <td>0</td>\n",
       "    </tr>\n",
       "    <tr>\n",
       "      <th>1</th>\n",
       "      <td>1</td>\n",
       "      <td>0</td>\n",
       "      <td>0</td>\n",
       "      <td>0</td>\n",
       "      <td>0</td>\n",
       "      <td>1</td>\n",
       "      <td>0</td>\n",
       "      <td>0</td>\n",
       "      <td>0</td>\n",
       "      <td>1</td>\n",
       "      <td>...</td>\n",
       "      <td>0</td>\n",
       "      <td>0</td>\n",
       "      <td>0</td>\n",
       "      <td>0</td>\n",
       "      <td>0</td>\n",
       "      <td>1</td>\n",
       "      <td>1</td>\n",
       "      <td>0</td>\n",
       "      <td>0</td>\n",
       "      <td>0</td>\n",
       "    </tr>\n",
       "    <tr>\n",
       "      <th>2</th>\n",
       "      <td>0</td>\n",
       "      <td>0</td>\n",
       "      <td>0</td>\n",
       "      <td>1</td>\n",
       "      <td>0</td>\n",
       "      <td>1</td>\n",
       "      <td>0</td>\n",
       "      <td>0</td>\n",
       "      <td>0</td>\n",
       "      <td>1</td>\n",
       "      <td>...</td>\n",
       "      <td>0</td>\n",
       "      <td>0</td>\n",
       "      <td>0</td>\n",
       "      <td>0</td>\n",
       "      <td>0</td>\n",
       "      <td>0</td>\n",
       "      <td>1</td>\n",
       "      <td>1</td>\n",
       "      <td>1</td>\n",
       "      <td>0</td>\n",
       "    </tr>\n",
       "    <tr>\n",
       "      <th>3</th>\n",
       "      <td>0</td>\n",
       "      <td>0</td>\n",
       "      <td>1</td>\n",
       "      <td>0</td>\n",
       "      <td>0</td>\n",
       "      <td>1</td>\n",
       "      <td>0</td>\n",
       "      <td>0</td>\n",
       "      <td>0</td>\n",
       "      <td>0</td>\n",
       "      <td>...</td>\n",
       "      <td>0</td>\n",
       "      <td>0</td>\n",
       "      <td>1</td>\n",
       "      <td>0</td>\n",
       "      <td>0</td>\n",
       "      <td>1</td>\n",
       "      <td>1</td>\n",
       "      <td>0</td>\n",
       "      <td>0</td>\n",
       "      <td>0</td>\n",
       "    </tr>\n",
       "    <tr>\n",
       "      <th>4</th>\n",
       "      <td>0</td>\n",
       "      <td>0</td>\n",
       "      <td>1</td>\n",
       "      <td>0</td>\n",
       "      <td>0</td>\n",
       "      <td>0</td>\n",
       "      <td>0</td>\n",
       "      <td>1</td>\n",
       "      <td>0</td>\n",
       "      <td>0</td>\n",
       "      <td>...</td>\n",
       "      <td>0</td>\n",
       "      <td>0</td>\n",
       "      <td>1</td>\n",
       "      <td>0</td>\n",
       "      <td>0</td>\n",
       "      <td>0</td>\n",
       "      <td>1</td>\n",
       "      <td>0</td>\n",
       "      <td>0</td>\n",
       "      <td>0</td>\n",
       "    </tr>\n",
       "  </tbody>\n",
       "</table>\n",
       "<p>5 rows × 25 columns</p>\n",
       "</div>"
      ],
      "text/plain": [
       "   Metier_Data architecte  Metier_Data engineer  Metier_Data scientist  \\\n",
       "0                       0                     0                      1   \n",
       "1                       1                     0                      0   \n",
       "2                       0                     0                      0   \n",
       "3                       0                     0                      1   \n",
       "4                       0                     0                      1   \n",
       "\n",
       "   Metier_Lead data scientist  Diplome_Bachelor  Diplome_Master  \\\n",
       "0                           0                 0               1   \n",
       "1                           0                 0               1   \n",
       "2                           1                 0               1   \n",
       "3                           0                 0               1   \n",
       "4                           0                 0               0   \n",
       "\n",
       "   Diplome_No diploma  Diplome_Phd  Exp_label_avance  Exp_label_confirme  ...  \\\n",
       "0                   0            0                 0                   0  ...   \n",
       "1                   0            0                 0                   1  ...   \n",
       "2                   0            0                 0                   1  ...   \n",
       "3                   0            0                 0                   0  ...   \n",
       "4                   0            1                 0                   0  ...   \n",
       "\n",
       "   Paris  Toulouse  C++  Excel  Hadoop  Java  Python  R  SQL  Spark  \n",
       "0      1         0    0      0       0     0       1  0    0      0  \n",
       "1      0         0    0      0       0     1       1  0    0      0  \n",
       "2      0         0    0      0       0     0       1  1    1      0  \n",
       "3      0         0    1      0       0     1       1  0    0      0  \n",
       "4      0         0    1      0       0     0       1  0    0      0  \n",
       "\n",
       "[5 rows x 25 columns]"
      ]
     },
     "execution_count": 21,
     "metadata": {},
     "output_type": "execute_result"
    }
   ],
   "source": [
    "all_dataframes = (metier_diplome_experience_df_to_add,\n",
    "                  ville_df_to_add,\n",
    "                  tech_df_to_add)\n",
    "df_for_clustering = pd.concat(all_dataframes, axis = 1)\n",
    "df_for_clustering.head()"
   ]
  },
  {
   "cell_type": "code",
   "execution_count": null,
   "metadata": {},
   "outputs": [],
   "source": []
  },
  {
   "cell_type": "code",
   "execution_count": null,
   "metadata": {},
   "outputs": [],
   "source": []
  },
  {
   "cell_type": "code",
   "execution_count": null,
   "metadata": {},
   "outputs": [],
   "source": []
  },
  {
   "cell_type": "markdown",
   "metadata": {},
   "source": [
    "## Clustering\n",
    "Afin de répondre au test, **j'ai décidé de développer une petite implémentation de l'algorithme de clustering 'kmodes'**. L'url du repo associé est : https://github.com/hansglick/kmodes .\n",
    "Quelques remarques à propos de l'implémentation :\n",
    " * Seulement pour K = 2\n",
    " * Distance entre deux objets : nombre de mismatch. Par exemple, la distance entre (Paris,Foot,Riche) et (Mexico,Foot,Pauvre) est de 2\n",
    " * Le nombre d'itérations maximum est fixé par défaut à 10\n",
    " * Afin d'éviter les minimum locaux éventuels, **5 clusterings** sont lancés par défaut. **Le clustering pour lequel la somme des distances des individus à leur centroids est la plus petite est retourné**\n",
    " * La fonction retourne trois objets:\n",
    "  * Un dataframe contenant les index des individus ainsi que le label du cluster auquel ils appartiennent.\n",
    "  * Un dataframe contenant les odds ratio des différentes modalités pour chacun des clusters. Par ex, si un cluster comprend 70% de Paris alors que l'attribut Paris n'est présent que dans 35% de la population alors l'attribut Paris est représenté par la métrique 2 (70/35)\n",
    "  * La somme des distances des individus à leur centroid"
   ]
  },
  {
   "cell_type": "code",
   "execution_count": 22,
   "metadata": {},
   "outputs": [
    {
     "name": "stdout",
     "output_type": "stream",
     "text": [
      "Clustering n° 1 / 10\n",
      "Clustering n° 2 / 10\n",
      "Clustering n° 3 / 10\n",
      "Clustering n° 4 / 10\n",
      "Clustering n° 5 / 10\n",
      "Clustering n° 6 / 10\n",
      "Clustering n° 7 / 10\n",
      "Clustering n° 8 / 10\n",
      "Clustering n° 9 / 10\n",
      "Clustering n° 10 / 10\n"
     ]
    }
   ],
   "source": [
    "# Import de mon implémentation kmodes\n",
    "sys.path.append(os.path.dirname(os.getcwd()))\n",
    "from fun import kmodes\n",
    "\n",
    "# Run du clustering\n",
    "# Attention, pour un run relativement rapide pour des résultats similaires,\n",
    "# entrez les paramètres suivants : \n",
    "# threshold = 1\n",
    "# n_clusterings = 5\n",
    "clustering_results, clusters_informations, metric = kmodes.kmodes(df_for_clustering,\n",
    "                                                                  n_clusterings = 10,\n",
    "                                                                  threshold = 0,\n",
    "                                                                  verbose = False)"
   ]
  },
  {
   "cell_type": "code",
   "execution_count": 23,
   "metadata": {},
   "outputs": [
    {
     "name": "stdout",
     "output_type": "stream",
     "text": [
      "La distance moyenne d'un profil à son centroïd est de  4.6  mismatch\n",
      "La classe 0 contient  6007  profils\n",
      "La classe 1 contient  3575  profils\n"
     ]
    }
   ],
   "source": [
    "mean_metric = metric/len(df)\n",
    "size_label_1 = clustering_results['affectation'].sum()\n",
    "print(\"La distance moyenne d'un profil à son centroïd est de \",\n",
    "      round(mean_metric,1),\n",
    "      \" mismatch\")\n",
    "print(\"La classe 0 contient \", len(df)-size_label_1, \" profils\")\n",
    "print(\"La classe 1 contient \", size_label_1, \" profils\")"
   ]
  },
  {
   "cell_type": "markdown",
   "metadata": {},
   "source": [
    "## Interprétations des résultats du clustering "
   ]
  },
  {
   "cell_type": "markdown",
   "metadata": {},
   "source": [
    "### Cluster 0:\n",
    " * Le cluster des **data architecte et data engineer**\n",
    " * Les data architectes et data engineer sont sureprésentés dans ce cluster (environ x1.5)\n",
    " * Les data scientists sont au contraire sous représentés (x0.3)\n",
    " * Les lead data scientists sont ici légèrement sureprésentés (x1.2)\n",
    " * Les profils de ce cluster semblent moins diplômés et possèdent moins de Phd (resp. x1.5 et x0.2)\n",
    " * En revanche, les \"experts\" sont légèrement sureprésentés (x1.3)\n",
    " * Les technologie sureprésentées sont Java et Hadoop\n",
    "\n",
    "### Cluster 1:\n",
    " * Le cluster **Data Science** par excellence. Les métiers Data scientist sont sureprésentés (x2.1)\n",
    " * Les métiers Data architecte et Data engineer sont sous représentés (environ x0.15)\n",
    " * Information intéressante : le métier de Lead Data scientist est sous représenté (environ x0.6)\n",
    " * Les profils détiennent sensiblement plus de Phd que dans la population totale (x2.3)\n",
    " * En revanche, les profils sont souvent plus jeunes et moins experimentés (resp. x1.5 et x0.5)\n",
    " * Les technologie sureprésentées sont Excel, R et SQL\n",
    " \n",
    "### Remarques :\n",
    " * Les **métiers de data engineer et data architect** semblent être des métiers plus **\"matures\"** que les métiers de data scientists. Les profils ont semblent-il eu le temps\n",
    " d'acquérir une certaine expertise\n",
    " * Le métier de **Lead Data Scientist** semble **plus transverse** qu'on aurait pu le croire au premier abord. On le retrouve dans les deux clusters. Il semblerait que les lead data scientist\n",
    "puissent détenir des skills aussi bien catégorisés comme \"data engineer + data architect\" que comme \"data scientist\". \n",
    " * La variable **ville** ne contient semble-t-il **aucune information discriminante** comme on l'avait suspecté en premier lieu.\n",
    "\n",
    "\n",
    "\n",
    " \n"
   ]
  },
  {
   "cell_type": "code",
   "execution_count": 24,
   "metadata": {},
   "outputs": [
    {
     "data": {
      "text/html": [
       "<div>\n",
       "<style scoped>\n",
       "    .dataframe tbody tr th:only-of-type {\n",
       "        vertical-align: middle;\n",
       "    }\n",
       "\n",
       "    .dataframe tbody tr th {\n",
       "        vertical-align: top;\n",
       "    }\n",
       "\n",
       "    .dataframe thead th {\n",
       "        text-align: right;\n",
       "    }\n",
       "</style>\n",
       "<table border=\"1\" class=\"dataframe\">\n",
       "  <thead>\n",
       "    <tr style=\"text-align: right;\">\n",
       "      <th></th>\n",
       "      <th>0</th>\n",
       "      <th>1</th>\n",
       "    </tr>\n",
       "  </thead>\n",
       "  <tbody>\n",
       "    <tr>\n",
       "      <th>Metier_Data architecte</th>\n",
       "      <td>1.510987</td>\n",
       "      <td>0.141400</td>\n",
       "    </tr>\n",
       "    <tr>\n",
       "      <th>Metier_Data engineer</th>\n",
       "      <td>1.504746</td>\n",
       "      <td>0.151886</td>\n",
       "    </tr>\n",
       "    <tr>\n",
       "      <th>Metier_Data scientist</th>\n",
       "      <td>0.338838</td>\n",
       "      <td>2.110937</td>\n",
       "    </tr>\n",
       "    <tr>\n",
       "      <th>Metier_Lead data scientist</th>\n",
       "      <td>1.228829</td>\n",
       "      <td>0.615504</td>\n",
       "    </tr>\n",
       "    <tr>\n",
       "      <th>Diplome_Bachelor</th>\n",
       "      <td>1.081761</td>\n",
       "      <td>0.862619</td>\n",
       "    </tr>\n",
       "    <tr>\n",
       "      <th>Diplome_Master</th>\n",
       "      <td>1.242482</td>\n",
       "      <td>0.592562</td>\n",
       "    </tr>\n",
       "    <tr>\n",
       "      <th>Diplome_No diploma</th>\n",
       "      <td>1.465669</td>\n",
       "      <td>0.217546</td>\n",
       "    </tr>\n",
       "    <tr>\n",
       "      <th>Diplome_Phd</th>\n",
       "      <td>0.217583</td>\n",
       "      <td>2.314679</td>\n",
       "    </tr>\n",
       "    <tr>\n",
       "      <th>Exp_label_avance</th>\n",
       "      <td>1.376483</td>\n",
       "      <td>0.367403</td>\n",
       "    </tr>\n",
       "    <tr>\n",
       "      <th>Exp_label_confirme</th>\n",
       "      <td>1.219754</td>\n",
       "      <td>0.630751</td>\n",
       "    </tr>\n",
       "    <tr>\n",
       "      <th>Exp_label_debutant</th>\n",
       "      <td>0.704814</td>\n",
       "      <td>1.495996</td>\n",
       "    </tr>\n",
       "    <tr>\n",
       "      <th>Exp_label_expert</th>\n",
       "      <td>1.309983</td>\n",
       "      <td>0.479143</td>\n",
       "    </tr>\n",
       "    <tr>\n",
       "      <th>Lille</th>\n",
       "      <td>1.007565</td>\n",
       "      <td>0.987289</td>\n",
       "    </tr>\n",
       "    <tr>\n",
       "      <th>Lyon</th>\n",
       "      <td>1.009389</td>\n",
       "      <td>0.984224</td>\n",
       "    </tr>\n",
       "    <tr>\n",
       "      <th>Marseille</th>\n",
       "      <td>1.023238</td>\n",
       "      <td>0.960953</td>\n",
       "    </tr>\n",
       "    <tr>\n",
       "      <th>Paris</th>\n",
       "      <td>0.959458</td>\n",
       "      <td>1.068121</td>\n",
       "    </tr>\n",
       "    <tr>\n",
       "      <th>Toulouse</th>\n",
       "      <td>1.001769</td>\n",
       "      <td>0.997027</td>\n",
       "    </tr>\n",
       "    <tr>\n",
       "      <th>C++</th>\n",
       "      <td>0.827024</td>\n",
       "      <td>1.290649</td>\n",
       "    </tr>\n",
       "    <tr>\n",
       "      <th>Excel</th>\n",
       "      <td>0.430163</td>\n",
       "      <td>1.957486</td>\n",
       "    </tr>\n",
       "    <tr>\n",
       "      <th>Hadoop</th>\n",
       "      <td>1.281934</td>\n",
       "      <td>0.526273</td>\n",
       "    </tr>\n",
       "    <tr>\n",
       "      <th>Java</th>\n",
       "      <td>1.378928</td>\n",
       "      <td>0.363296</td>\n",
       "    </tr>\n",
       "    <tr>\n",
       "      <th>Python</th>\n",
       "      <td>0.885546</td>\n",
       "      <td>1.192314</td>\n",
       "    </tr>\n",
       "    <tr>\n",
       "      <th>R</th>\n",
       "      <td>0.493056</td>\n",
       "      <td>1.851807</td>\n",
       "    </tr>\n",
       "    <tr>\n",
       "      <th>SQL</th>\n",
       "      <td>0.753998</td>\n",
       "      <td>1.413352</td>\n",
       "    </tr>\n",
       "    <tr>\n",
       "      <th>Spark</th>\n",
       "      <td>1.103733</td>\n",
       "      <td>0.825699</td>\n",
       "    </tr>\n",
       "  </tbody>\n",
       "</table>\n",
       "</div>"
      ],
      "text/plain": [
       "                                   0         1\n",
       "Metier_Data architecte      1.510987  0.141400\n",
       "Metier_Data engineer        1.504746  0.151886\n",
       "Metier_Data scientist       0.338838  2.110937\n",
       "Metier_Lead data scientist  1.228829  0.615504\n",
       "Diplome_Bachelor            1.081761  0.862619\n",
       "Diplome_Master              1.242482  0.592562\n",
       "Diplome_No diploma          1.465669  0.217546\n",
       "Diplome_Phd                 0.217583  2.314679\n",
       "Exp_label_avance            1.376483  0.367403\n",
       "Exp_label_confirme          1.219754  0.630751\n",
       "Exp_label_debutant          0.704814  1.495996\n",
       "Exp_label_expert            1.309983  0.479143\n",
       "Lille                       1.007565  0.987289\n",
       "Lyon                        1.009389  0.984224\n",
       "Marseille                   1.023238  0.960953\n",
       "Paris                       0.959458  1.068121\n",
       "Toulouse                    1.001769  0.997027\n",
       "C++                         0.827024  1.290649\n",
       "Excel                       0.430163  1.957486\n",
       "Hadoop                      1.281934  0.526273\n",
       "Java                        1.378928  0.363296\n",
       "Python                      0.885546  1.192314\n",
       "R                           0.493056  1.851807\n",
       "SQL                         0.753998  1.413352\n",
       "Spark                       1.103733  0.825699"
      ]
     },
     "execution_count": 24,
     "metadata": {},
     "output_type": "execute_result"
    }
   ],
   "source": [
    "clusters_informations"
   ]
  },
  {
   "cell_type": "code",
   "execution_count": null,
   "metadata": {},
   "outputs": [],
   "source": []
  },
  {
   "cell_type": "code",
   "execution_count": null,
   "metadata": {},
   "outputs": [],
   "source": []
  },
  {
   "cell_type": "code",
   "execution_count": null,
   "metadata": {},
   "outputs": [],
   "source": []
  },
  {
   "cell_type": "markdown",
   "metadata": {},
   "source": [
    "### 9) Réaliser la prédiction des métiers manquants dans la base de données par l'algorithme de votre choix\n",
    "-  Justifier la performance de votre algorithme grace à une métrique.\n",
    "-  Interpréter votre resultat.  "
   ]
  },
  {
   "cell_type": "markdown",
   "metadata": {},
   "source": [
    "## Entraînement du modèle\n",
    "On entraîne un modèle afin de prédire le métier. A propos du modèle :\n",
    " * Modèle : régression logistique\n",
    " * Modèle entraîné uniquement sur les lignes dont le métier est renseigné\n",
    " * Training set : 70%\n",
    " * Test set : 30%\n",
    " * On ne prend pas en compte les variables **Ville** ni **Entreprise**, nous savons désormais qu'elles ne sont pas discriminantes\n",
    " * Les features du modèle :\n",
    "  * Diplome\n",
    "  * Exp_label\n",
    "  * Top 8 Technologies"
   ]
  },
  {
   "cell_type": "code",
   "execution_count": 25,
   "metadata": {},
   "outputs": [],
   "source": [
    "# Préparation des données\n",
    "diplome_experience_df_to_add = pd.get_dummies(df[[\"Diplome\", \"Exp_label\"]])\n",
    "all_dataframes = (diplome_experience_df_to_add, tech_df_to_add)\n",
    "X = pd.concat(all_dataframes, axis = 1)\n",
    "y = df.Metier.astype(\"category\").cat.codes\n",
    "code_meanings = pd.Series(df.Metier.loc[y>-1].unique()).sort_values().reset_index(drop = True)\n",
    "clean_y = y.loc[y>-1]\n",
    "clean_X = X.loc[y>-1]\n",
    "topredict_X = X.loc[y == -1]\n",
    "X_train, X_test, y_train, y_test = train_test_split(clean_X,\n",
    "                                                    clean_y,\n",
    "                                                    test_size = 0.3,\n",
    "                                                    random_state = 0)"
   ]
  },
  {
   "cell_type": "code",
   "execution_count": 26,
   "metadata": {},
   "outputs": [],
   "source": [
    "# Définition du modèle\n",
    "logisiticmodel = LogisticRegression(solver = \"newton-cg\", multi_class = \"multinomial\")"
   ]
  },
  {
   "cell_type": "code",
   "execution_count": 27,
   "metadata": {},
   "outputs": [
    {
     "data": {
      "text/plain": [
       "LogisticRegression(C=1.0, class_weight=None, dual=False, fit_intercept=True,\n",
       "          intercept_scaling=1, max_iter=100, multi_class='multinomial',\n",
       "          n_jobs=None, penalty='l2', random_state=None, solver='newton-cg',\n",
       "          tol=0.0001, verbose=0, warm_start=False)"
      ]
     },
     "execution_count": 27,
     "metadata": {},
     "output_type": "execute_result"
    }
   ],
   "source": [
    "# Entraînement du modèle\n",
    "logisiticmodel.fit(X_train, y_train)"
   ]
  },
  {
   "cell_type": "code",
   "execution_count": 28,
   "metadata": {},
   "outputs": [],
   "source": [
    "# Métriques performances\n",
    "predictions = logisiticmodel.predict(X_test)\n",
    "score = logisiticmodel.score(X_test, y_test)\n",
    "confusion_matrix = metrics.confusion_matrix(y_test, predictions)\n",
    "confusion_matrix_df = pd.DataFrame(data = confusion_matrix,\n",
    "                                   columns = code_meanings,\n",
    "                                   index = code_meanings)"
   ]
  },
  {
   "cell_type": "markdown",
   "metadata": {},
   "source": [
    "## Résultats du modèle"
   ]
  },
  {
   "cell_type": "code",
   "execution_count": 29,
   "metadata": {},
   "outputs": [
    {
     "data": {
      "text/html": [
       "<div>\n",
       "<style scoped>\n",
       "    .dataframe tbody tr th:only-of-type {\n",
       "        vertical-align: middle;\n",
       "    }\n",
       "\n",
       "    .dataframe tbody tr th {\n",
       "        vertical-align: top;\n",
       "    }\n",
       "\n",
       "    .dataframe thead th {\n",
       "        text-align: right;\n",
       "    }\n",
       "</style>\n",
       "<table border=\"1\" class=\"dataframe\">\n",
       "  <thead>\n",
       "    <tr style=\"text-align: right;\">\n",
       "      <th></th>\n",
       "      <th>Data architecte</th>\n",
       "      <th>Data engineer</th>\n",
       "      <th>Data scientist</th>\n",
       "      <th>Lead data scientist</th>\n",
       "    </tr>\n",
       "  </thead>\n",
       "  <tbody>\n",
       "    <tr>\n",
       "      <th>Data architecte</th>\n",
       "      <td>327</td>\n",
       "      <td>291</td>\n",
       "      <td>6</td>\n",
       "      <td>0</td>\n",
       "    </tr>\n",
       "    <tr>\n",
       "      <th>Data engineer</th>\n",
       "      <td>234</td>\n",
       "      <td>443</td>\n",
       "      <td>30</td>\n",
       "      <td>1</td>\n",
       "    </tr>\n",
       "    <tr>\n",
       "      <th>Data scientist</th>\n",
       "      <td>39</td>\n",
       "      <td>19</td>\n",
       "      <td>1035</td>\n",
       "      <td>73</td>\n",
       "    </tr>\n",
       "    <tr>\n",
       "      <th>Lead data scientist</th>\n",
       "      <td>10</td>\n",
       "      <td>5</td>\n",
       "      <td>191</td>\n",
       "      <td>165</td>\n",
       "    </tr>\n",
       "  </tbody>\n",
       "</table>\n",
       "</div>"
      ],
      "text/plain": [
       "                     Data architecte  Data engineer  Data scientist  \\\n",
       "Data architecte                  327            291               6   \n",
       "Data engineer                    234            443              30   \n",
       "Data scientist                    39             19            1035   \n",
       "Lead data scientist               10              5             191   \n",
       "\n",
       "                     Lead data scientist  \n",
       "Data architecte                        0  \n",
       "Data engineer                          1  \n",
       "Data scientist                        73  \n",
       "Lead data scientist                  165  "
      ]
     },
     "execution_count": 29,
     "metadata": {},
     "output_type": "execute_result"
    }
   ],
   "source": [
    "confusion_matrix_df"
   ]
  },
  {
   "cell_type": "code",
   "execution_count": 30,
   "metadata": {},
   "outputs": [
    {
     "name": "stdout",
     "output_type": "stream",
     "text": [
      "La précision du modèle est de  69.0 %\n",
      "Pour une prédiction, le modèle se trompe en moyenne  31.0 % du temps\n",
      "Le modèle a du mal à distinguer les métiers Data architecte et Data engineer\n",
      "Le modèle retrouve parfaitement le métier Data scientist\n",
      "Le modèle a du mal à distinguer les métiers Lead data scientist et Data scientist\n"
     ]
    }
   ],
   "source": [
    "print(\"La précision du modèle est de \", 100*round(score,2), \"%\")\n",
    "print(\"Pour une prédiction, le modèle se trompe en moyenne \",\n",
    "      100 - 100*round(score,2),\n",
    "      \"% du temps\")\n",
    "print(\"Le modèle a du mal à distinguer les métiers Data architecte et Data engineer\")\n",
    "print(\"Le modèle retrouve parfaitement le métier Data scientist\")\n",
    "print(\"Le modèle a du mal à distinguer les métiers Lead data scientist et Data scientist\")"
   ]
  },
  {
   "cell_type": "markdown",
   "metadata": {},
   "source": [
    "## Prédictions des métiers __manquants__"
   ]
  },
  {
   "cell_type": "code",
   "execution_count": 31,
   "metadata": {},
   "outputs": [],
   "source": [
    "predicted_metiers_code = pd.Series(logisiticmodel.predict(topredict_X))\n",
    "predictions_df = predicted_metiers_code.\\\n",
    "to_frame(name = \"metier_code\").\\\n",
    "set_index(topredict_X.index.values).\\\n",
    "merge(right = code_meanings.to_frame(name = \"metier\"),\n",
    "      how = \"left\",\n",
    "      left_on = \"metier_code\",\n",
    "      right_index = True)"
   ]
  },
  {
   "cell_type": "code",
   "execution_count": 32,
   "metadata": {},
   "outputs": [
    {
     "data": {
      "text/html": [
       "<div>\n",
       "<style scoped>\n",
       "    .dataframe tbody tr th:only-of-type {\n",
       "        vertical-align: middle;\n",
       "    }\n",
       "\n",
       "    .dataframe tbody tr th {\n",
       "        vertical-align: top;\n",
       "    }\n",
       "\n",
       "    .dataframe thead th {\n",
       "        text-align: right;\n",
       "    }\n",
       "</style>\n",
       "<table border=\"1\" class=\"dataframe\">\n",
       "  <thead>\n",
       "    <tr style=\"text-align: right;\">\n",
       "      <th></th>\n",
       "      <th>metier_code</th>\n",
       "      <th>metier</th>\n",
       "    </tr>\n",
       "  </thead>\n",
       "  <tbody>\n",
       "    <tr>\n",
       "      <th>346</th>\n",
       "      <td>1</td>\n",
       "      <td>Data engineer</td>\n",
       "    </tr>\n",
       "    <tr>\n",
       "      <th>2058</th>\n",
       "      <td>2</td>\n",
       "      <td>Data scientist</td>\n",
       "    </tr>\n",
       "    <tr>\n",
       "      <th>2670</th>\n",
       "      <td>2</td>\n",
       "      <td>Data scientist</td>\n",
       "    </tr>\n",
       "    <tr>\n",
       "      <th>2899</th>\n",
       "      <td>2</td>\n",
       "      <td>Data scientist</td>\n",
       "    </tr>\n",
       "    <tr>\n",
       "      <th>3346</th>\n",
       "      <td>1</td>\n",
       "      <td>Data engineer</td>\n",
       "    </tr>\n",
       "    <tr>\n",
       "      <th>4248</th>\n",
       "      <td>2</td>\n",
       "      <td>Data scientist</td>\n",
       "    </tr>\n",
       "    <tr>\n",
       "      <th>4290</th>\n",
       "      <td>2</td>\n",
       "      <td>Data scientist</td>\n",
       "    </tr>\n",
       "    <tr>\n",
       "      <th>4292</th>\n",
       "      <td>3</td>\n",
       "      <td>Lead data scientist</td>\n",
       "    </tr>\n",
       "    <tr>\n",
       "      <th>5425</th>\n",
       "      <td>1</td>\n",
       "      <td>Data engineer</td>\n",
       "    </tr>\n",
       "    <tr>\n",
       "      <th>5593</th>\n",
       "      <td>2</td>\n",
       "      <td>Data scientist</td>\n",
       "    </tr>\n",
       "    <tr>\n",
       "      <th>5712</th>\n",
       "      <td>0</td>\n",
       "      <td>Data architecte</td>\n",
       "    </tr>\n",
       "    <tr>\n",
       "      <th>6024</th>\n",
       "      <td>0</td>\n",
       "      <td>Data architecte</td>\n",
       "    </tr>\n",
       "    <tr>\n",
       "      <th>6625</th>\n",
       "      <td>0</td>\n",
       "      <td>Data architecte</td>\n",
       "    </tr>\n",
       "    <tr>\n",
       "      <th>7091</th>\n",
       "      <td>2</td>\n",
       "      <td>Data scientist</td>\n",
       "    </tr>\n",
       "    <tr>\n",
       "      <th>7228</th>\n",
       "      <td>0</td>\n",
       "      <td>Data architecte</td>\n",
       "    </tr>\n",
       "    <tr>\n",
       "      <th>7330</th>\n",
       "      <td>2</td>\n",
       "      <td>Data scientist</td>\n",
       "    </tr>\n",
       "    <tr>\n",
       "      <th>9087</th>\n",
       "      <td>0</td>\n",
       "      <td>Data architecte</td>\n",
       "    </tr>\n",
       "    <tr>\n",
       "      <th>9427</th>\n",
       "      <td>2</td>\n",
       "      <td>Data scientist</td>\n",
       "    </tr>\n",
       "    <tr>\n",
       "      <th>9490</th>\n",
       "      <td>2</td>\n",
       "      <td>Data scientist</td>\n",
       "    </tr>\n",
       "  </tbody>\n",
       "</table>\n",
       "</div>"
      ],
      "text/plain": [
       "      metier_code               metier\n",
       "346             1        Data engineer\n",
       "2058            2       Data scientist\n",
       "2670            2       Data scientist\n",
       "2899            2       Data scientist\n",
       "3346            1        Data engineer\n",
       "4248            2       Data scientist\n",
       "4290            2       Data scientist\n",
       "4292            3  Lead data scientist\n",
       "5425            1        Data engineer\n",
       "5593            2       Data scientist\n",
       "5712            0      Data architecte\n",
       "6024            0      Data architecte\n",
       "6625            0      Data architecte\n",
       "7091            2       Data scientist\n",
       "7228            0      Data architecte\n",
       "7330            2       Data scientist\n",
       "9087            0      Data architecte\n",
       "9427            2       Data scientist\n",
       "9490            2       Data scientist"
      ]
     },
     "execution_count": 32,
     "metadata": {},
     "output_type": "execute_result"
    }
   ],
   "source": [
    "predictions_df"
   ]
  },
  {
   "cell_type": "code",
   "execution_count": null,
   "metadata": {},
   "outputs": [],
   "source": []
  }
 ],
 "metadata": {
  "kernelspec": {
   "display_name": "Python [conda env:test_aquila]",
   "language": "python",
   "name": "conda-env-test_aquila-py"
  },
  "language_info": {
   "codemirror_mode": {
    "name": "ipython",
    "version": 3
   },
   "file_extension": ".py",
   "mimetype": "text/x-python",
   "name": "python",
   "nbconvert_exporter": "python",
   "pygments_lexer": "ipython3",
   "version": "3.6.7"
  }
 },
 "nbformat": 4,
 "nbformat_minor": 2
}
